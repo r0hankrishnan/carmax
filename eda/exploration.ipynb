{
 "cells": [
  {
   "cell_type": "markdown",
   "metadata": {},
   "source": [
    "# Exploring CarMax trade-ins"
   ]
  },
  {
   "cell_type": "markdown",
   "metadata": {},
   "source": [
    "## Import libraries and data"
   ]
  },
  {
   "cell_type": "code",
   "execution_count": 1,
   "metadata": {},
   "outputs": [],
   "source": [
    "import pandas as pd\n",
    "import numpy as np\n",
    "from scipy import stats"
   ]
  },
  {
   "cell_type": "code",
   "execution_count": 63,
   "metadata": {},
   "outputs": [],
   "source": [
    "data = pd.read_csv(\"../data/viz.csv\").drop(\"Unnamed: 0\", axis = 1)"
   ]
  },
  {
   "cell_type": "markdown",
   "metadata": {},
   "source": [
    "## First, let's take a quick look at the data to remind ourselves what it looks like."
   ]
  },
  {
   "cell_type": "code",
   "execution_count": 5,
   "metadata": {},
   "outputs": [
    {
     "data": {
      "text/html": [
       "<div>\n",
       "<style scoped>\n",
       "    .dataframe tbody tr th:only-of-type {\n",
       "        vertical-align: middle;\n",
       "    }\n",
       "\n",
       "    .dataframe tbody tr th {\n",
       "        vertical-align: top;\n",
       "    }\n",
       "\n",
       "    .dataframe thead th {\n",
       "        text-align: right;\n",
       "    }\n",
       "</style>\n",
       "<table border=\"1\" class=\"dataframe\">\n",
       "  <thead>\n",
       "    <tr style=\"text-align: right;\">\n",
       "      <th></th>\n",
       "      <th>price</th>\n",
       "      <th>appraisal_offer</th>\n",
       "      <th>make_appraisal</th>\n",
       "      <th>model_appraisal</th>\n",
       "      <th>trim_level_premium_appraisal</th>\n",
       "      <th>model_year_appraisal</th>\n",
       "      <th>mileage_appraisal</th>\n",
       "      <th>engine_appraisal</th>\n",
       "      <th>mpg_city_appraisal</th>\n",
       "      <th>mpg_highway_appraisal</th>\n",
       "      <th>...</th>\n",
       "      <th>mid_size_appraisal</th>\n",
       "      <th>pickup_appraisal</th>\n",
       "      <th>small_suv_appraisal</th>\n",
       "      <th>sports_car_appraisal</th>\n",
       "      <th>van_appraisal</th>\n",
       "      <th>cylinders</th>\n",
       "      <th>cylinders_appraisal</th>\n",
       "      <th>region</th>\n",
       "      <th>color_grouped</th>\n",
       "      <th>color_grouped_appraisal</th>\n",
       "    </tr>\n",
       "  </thead>\n",
       "  <tbody>\n",
       "    <tr>\n",
       "      <th>0</th>\n",
       "      <td>24000</td>\n",
       "      <td>9000</td>\n",
       "      <td>Ford</td>\n",
       "      <td>Escape</td>\n",
       "      <td>True</td>\n",
       "      <td>2012</td>\n",
       "      <td>39300</td>\n",
       "      <td>1.6</td>\n",
       "      <td>22.0</td>\n",
       "      <td>29</td>\n",
       "      <td>...</td>\n",
       "      <td>False</td>\n",
       "      <td>False</td>\n",
       "      <td>True</td>\n",
       "      <td>False</td>\n",
       "      <td>False</td>\n",
       "      <td>6</td>\n",
       "      <td>4</td>\n",
       "      <td>Midwest</td>\n",
       "      <td>Black</td>\n",
       "      <td>White</td>\n",
       "    </tr>\n",
       "    <tr>\n",
       "      <th>1</th>\n",
       "      <td>33000</td>\n",
       "      <td>14600</td>\n",
       "      <td>Toyota</td>\n",
       "      <td>Tacoma</td>\n",
       "      <td>True</td>\n",
       "      <td>2014</td>\n",
       "      <td>105800</td>\n",
       "      <td>3.5</td>\n",
       "      <td>19.0</td>\n",
       "      <td>24</td>\n",
       "      <td>...</td>\n",
       "      <td>False</td>\n",
       "      <td>True</td>\n",
       "      <td>False</td>\n",
       "      <td>False</td>\n",
       "      <td>False</td>\n",
       "      <td>6</td>\n",
       "      <td>6</td>\n",
       "      <td>West</td>\n",
       "      <td>Black</td>\n",
       "      <td>Gray</td>\n",
       "    </tr>\n",
       "    <tr>\n",
       "      <th>2</th>\n",
       "      <td>25500</td>\n",
       "      <td>3400</td>\n",
       "      <td>Chevrolet</td>\n",
       "      <td>Cruze</td>\n",
       "      <td>False</td>\n",
       "      <td>2008</td>\n",
       "      <td>97300</td>\n",
       "      <td>1.4</td>\n",
       "      <td>28.0</td>\n",
       "      <td>42</td>\n",
       "      <td>...</td>\n",
       "      <td>False</td>\n",
       "      <td>False</td>\n",
       "      <td>False</td>\n",
       "      <td>False</td>\n",
       "      <td>False</td>\n",
       "      <td>4</td>\n",
       "      <td>4</td>\n",
       "      <td>Midwest</td>\n",
       "      <td>Gray</td>\n",
       "      <td>White</td>\n",
       "    </tr>\n",
       "    <tr>\n",
       "      <th>3</th>\n",
       "      <td>18700</td>\n",
       "      <td>1100</td>\n",
       "      <td>Chevrolet</td>\n",
       "      <td>Impala</td>\n",
       "      <td>True</td>\n",
       "      <td>2006</td>\n",
       "      <td>145600</td>\n",
       "      <td>3.9</td>\n",
       "      <td>17.0</td>\n",
       "      <td>27</td>\n",
       "      <td>...</td>\n",
       "      <td>False</td>\n",
       "      <td>False</td>\n",
       "      <td>False</td>\n",
       "      <td>False</td>\n",
       "      <td>False</td>\n",
       "      <td>6</td>\n",
       "      <td>6</td>\n",
       "      <td>South</td>\n",
       "      <td>Black</td>\n",
       "      <td>White</td>\n",
       "    </tr>\n",
       "    <tr>\n",
       "      <th>4</th>\n",
       "      <td>19500</td>\n",
       "      <td>15000</td>\n",
       "      <td>GMC</td>\n",
       "      <td>Yukon</td>\n",
       "      <td>False</td>\n",
       "      <td>2009</td>\n",
       "      <td>51600</td>\n",
       "      <td>5.3</td>\n",
       "      <td>15.0</td>\n",
       "      <td>21</td>\n",
       "      <td>...</td>\n",
       "      <td>False</td>\n",
       "      <td>False</td>\n",
       "      <td>False</td>\n",
       "      <td>False</td>\n",
       "      <td>False</td>\n",
       "      <td>4</td>\n",
       "      <td>8</td>\n",
       "      <td>West</td>\n",
       "      <td>Red</td>\n",
       "      <td>Black</td>\n",
       "    </tr>\n",
       "  </tbody>\n",
       "</table>\n",
       "<p>5 rows × 58 columns</p>\n",
       "</div>"
      ],
      "text/plain": [
       "   price  appraisal_offer make_appraisal model_appraisal  \\\n",
       "0  24000             9000           Ford          Escape   \n",
       "1  33000            14600         Toyota          Tacoma   \n",
       "2  25500             3400      Chevrolet           Cruze   \n",
       "3  18700             1100      Chevrolet          Impala   \n",
       "4  19500            15000            GMC           Yukon   \n",
       "\n",
       "   trim_level_premium_appraisal  model_year_appraisal  mileage_appraisal  \\\n",
       "0                          True                  2012              39300   \n",
       "1                          True                  2014             105800   \n",
       "2                         False                  2008              97300   \n",
       "3                          True                  2006             145600   \n",
       "4                         False                  2009              51600   \n",
       "\n",
       "   engine_appraisal  mpg_city_appraisal  mpg_highway_appraisal  ...  \\\n",
       "0               1.6                22.0                     29  ...   \n",
       "1               3.5                19.0                     24  ...   \n",
       "2               1.4                28.0                     42  ...   \n",
       "3               3.9                17.0                     27  ...   \n",
       "4               5.3                15.0                     21  ...   \n",
       "\n",
       "   mid_size_appraisal  pickup_appraisal small_suv_appraisal  \\\n",
       "0               False             False                True   \n",
       "1               False              True               False   \n",
       "2               False             False               False   \n",
       "3               False             False               False   \n",
       "4               False             False               False   \n",
       "\n",
       "  sports_car_appraisal van_appraisal cylinders  cylinders_appraisal   region  \\\n",
       "0                False         False         6                    4  Midwest   \n",
       "1                False         False         6                    6     West   \n",
       "2                False         False         4                    4  Midwest   \n",
       "3                False         False         6                    6    South   \n",
       "4                False         False         4                    8     West   \n",
       "\n",
       "   color_grouped  color_grouped_appraisal  \n",
       "0          Black                    White  \n",
       "1          Black                     Gray  \n",
       "2           Gray                    White  \n",
       "3          Black                    White  \n",
       "4            Red                    Black  \n",
       "\n",
       "[5 rows x 58 columns]"
      ]
     },
     "execution_count": 5,
     "metadata": {},
     "output_type": "execute_result"
    }
   ],
   "source": [
    "data.head()"
   ]
  },
  {
   "cell_type": "code",
   "execution_count": 6,
   "metadata": {},
   "outputs": [
    {
     "name": "stdout",
     "output_type": "stream",
     "text": [
      "Rows: 111543\n",
      "Columns: 58\n"
     ]
    }
   ],
   "source": [
    "print(f\"Rows: {data.shape[0]}\")\n",
    "print(f\"Columns: {data.shape[1]}\")"
   ]
  },
  {
   "cell_type": "code",
   "execution_count": 7,
   "metadata": {},
   "outputs": [
    {
     "name": "stdout",
     "output_type": "stream",
     "text": [
      "Columns:\n"
     ]
    },
    {
     "data": {
      "text/plain": [
       "Index(['price', 'appraisal_offer', 'make_appraisal', 'model_appraisal',\n",
       "       'trim_level_premium_appraisal', 'model_year_appraisal',\n",
       "       'mileage_appraisal', 'engine_appraisal', 'mpg_city_appraisal',\n",
       "       'mpg_highway_appraisal', 'horsepower_appraisal',\n",
       "       'fuel_capacity_appraisal', 'vehicle_type_appraisal', 'color_appraisal',\n",
       "       'make', 'model', 'trim_level_premium', 'model_year', 'mileage',\n",
       "       'engine', 'mpg_city', 'mpg_highway', 'horsepower', 'fuel_capacity',\n",
       "       'vehicle_type', 'color', 'online_appraisal_flag', 'state',\n",
       "       'days_since_offer', 'cylinders_even', 'cylinders_even_appraisal',\n",
       "       'cylinders_high', 'cylinders_high_appraisal', 'compact', 'full_size',\n",
       "       'large_suv', 'luxury', 'medium_suv', 'mid_size', 'pickup', 'small_suv',\n",
       "       'sports_car', 'van', 'compact_appraisal', 'full_size_appraisal',\n",
       "       'large_suv_appraisal', 'luxury_appraisal', 'medium_suv_appraisal',\n",
       "       'mid_size_appraisal', 'pickup_appraisal', 'small_suv_appraisal',\n",
       "       'sports_car_appraisal', 'van_appraisal', 'cylinders',\n",
       "       'cylinders_appraisal', 'region', 'color_grouped',\n",
       "       'color_grouped_appraisal'],\n",
       "      dtype='object')"
      ]
     },
     "execution_count": 7,
     "metadata": {},
     "output_type": "execute_result"
    }
   ],
   "source": [
    "print(\"Columns:\")\n",
    "data.columns"
   ]
  },
  {
   "cell_type": "code",
   "execution_count": 8,
   "metadata": {},
   "outputs": [
    {
     "data": {
      "text/plain": [
       "price                            int64\n",
       "appraisal_offer                  int64\n",
       "make_appraisal                  object\n",
       "model_appraisal                 object\n",
       "trim_level_premium_appraisal      bool\n",
       "dtype: object"
      ]
     },
     "execution_count": 8,
     "metadata": {},
     "output_type": "execute_result"
    }
   ],
   "source": [
    "data.dtypes.head()"
   ]
  },
  {
   "cell_type": "code",
   "execution_count": 9,
   "metadata": {},
   "outputs": [
    {
     "name": "stdout",
     "output_type": "stream",
     "text": [
      "Dummy Columns: 23\n",
      "Float Columns: 6\n",
      "Integer Columns: 17\n",
      "Object Columns: 12\n",
      "Total: 58\n"
     ]
    }
   ],
   "source": [
    "dummy_counter = 0\n",
    "float_counter = 0\n",
    "int_counter = 0\n",
    "obj_counter = 0\n",
    "\n",
    "for i in data.columns:\n",
    "    if data[i].dtype == \"bool\":\n",
    "        dummy_counter = dummy_counter + 1\n",
    "\n",
    "    elif data[i].dtype == \"float64\":\n",
    "        float_counter = float_counter + 1\n",
    "        \n",
    "    elif data[i].dtype == \"int64\":\n",
    "        int_counter = int_counter + 1\n",
    "    \n",
    "    else:\n",
    "        obj_counter = obj_counter + 1\n",
    "        \n",
    "print(f\"Dummy Columns: {dummy_counter}\")\n",
    "print(f\"Float Columns: {float_counter}\")\n",
    "print(f\"Integer Columns: {int_counter}\")\n",
    "print(f\"Object Columns: {obj_counter}\")\n",
    "print(f\"Total: {dummy_counter + float_counter + int_counter + obj_counter}\")"
   ]
  },
  {
   "cell_type": "code",
   "execution_count": 10,
   "metadata": {},
   "outputs": [
    {
     "data": {
      "text/html": [
       "<div>\n",
       "<style scoped>\n",
       "    .dataframe tbody tr th:only-of-type {\n",
       "        vertical-align: middle;\n",
       "    }\n",
       "\n",
       "    .dataframe tbody tr th {\n",
       "        vertical-align: top;\n",
       "    }\n",
       "\n",
       "    .dataframe thead th {\n",
       "        text-align: right;\n",
       "    }\n",
       "</style>\n",
       "<table border=\"1\" class=\"dataframe\">\n",
       "  <thead>\n",
       "    <tr style=\"text-align: right;\">\n",
       "      <th></th>\n",
       "      <th>price</th>\n",
       "      <th>appraisal_offer</th>\n",
       "      <th>model_year_appraisal</th>\n",
       "      <th>mileage_appraisal</th>\n",
       "      <th>engine_appraisal</th>\n",
       "      <th>mpg_city_appraisal</th>\n",
       "      <th>mpg_highway_appraisal</th>\n",
       "      <th>horsepower_appraisal</th>\n",
       "      <th>fuel_capacity_appraisal</th>\n",
       "      <th>model_year</th>\n",
       "      <th>...</th>\n",
       "      <th>mpg_highway</th>\n",
       "      <th>horsepower</th>\n",
       "      <th>fuel_capacity</th>\n",
       "      <th>days_since_offer</th>\n",
       "      <th>cylinders_even</th>\n",
       "      <th>cylinders_even_appraisal</th>\n",
       "      <th>cylinders_high</th>\n",
       "      <th>cylinders_high_appraisal</th>\n",
       "      <th>cylinders</th>\n",
       "      <th>cylinders_appraisal</th>\n",
       "    </tr>\n",
       "  </thead>\n",
       "  <tbody>\n",
       "    <tr>\n",
       "      <th>count</th>\n",
       "      <td>111543.000000</td>\n",
       "      <td>111543.000000</td>\n",
       "      <td>111543.000000</td>\n",
       "      <td>111543.000000</td>\n",
       "      <td>111543.000000</td>\n",
       "      <td>111543.000000</td>\n",
       "      <td>111543.000000</td>\n",
       "      <td>111543.000000</td>\n",
       "      <td>111543.000000</td>\n",
       "      <td>111543.000000</td>\n",
       "      <td>...</td>\n",
       "      <td>111543.000000</td>\n",
       "      <td>111543.000000</td>\n",
       "      <td>111543.000000</td>\n",
       "      <td>111543.000000</td>\n",
       "      <td>111543.000000</td>\n",
       "      <td>111543.000000</td>\n",
       "      <td>111543.000000</td>\n",
       "      <td>111543.000000</td>\n",
       "      <td>111543.000000</td>\n",
       "      <td>111543.000000</td>\n",
       "    </tr>\n",
       "    <tr>\n",
       "      <th>mean</th>\n",
       "      <td>21703.676609</td>\n",
       "      <td>8702.079915</td>\n",
       "      <td>2010.131752</td>\n",
       "      <td>80629.963333</td>\n",
       "      <td>2.786724</td>\n",
       "      <td>22.255453</td>\n",
       "      <td>30.227016</td>\n",
       "      <td>214.677882</td>\n",
       "      <td>17.387501</td>\n",
       "      <td>2014.235021</td>\n",
       "      <td>...</td>\n",
       "      <td>29.573653</td>\n",
       "      <td>235.593861</td>\n",
       "      <td>17.456147</td>\n",
       "      <td>1.263011</td>\n",
       "      <td>0.995383</td>\n",
       "      <td>0.991582</td>\n",
       "      <td>0.386721</td>\n",
       "      <td>0.369033</td>\n",
       "      <td>4.946066</td>\n",
       "      <td>4.907964</td>\n",
       "    </tr>\n",
       "    <tr>\n",
       "      <th>std</th>\n",
       "      <td>6865.891718</td>\n",
       "      <td>7157.055694</td>\n",
       "      <td>3.887661</td>\n",
       "      <td>43751.178018</td>\n",
       "      <td>1.066918</td>\n",
       "      <td>5.306000</td>\n",
       "      <td>6.181651</td>\n",
       "      <td>73.567761</td>\n",
       "      <td>4.454514</td>\n",
       "      <td>1.878096</td>\n",
       "      <td>...</td>\n",
       "      <td>5.833848</td>\n",
       "      <td>75.972278</td>\n",
       "      <td>4.320093</td>\n",
       "      <td>2.291600</td>\n",
       "      <td>0.067792</td>\n",
       "      <td>0.091365</td>\n",
       "      <td>0.487001</td>\n",
       "      <td>0.482545</td>\n",
       "      <td>1.312961</td>\n",
       "      <td>1.286500</td>\n",
       "    </tr>\n",
       "    <tr>\n",
       "      <th>min</th>\n",
       "      <td>3700.000000</td>\n",
       "      <td>0.000000</td>\n",
       "      <td>1992.000000</td>\n",
       "      <td>0.000000</td>\n",
       "      <td>1.000000</td>\n",
       "      <td>10.000000</td>\n",
       "      <td>13.000000</td>\n",
       "      <td>70.000000</td>\n",
       "      <td>7.000000</td>\n",
       "      <td>2005.000000</td>\n",
       "      <td>...</td>\n",
       "      <td>16.000000</td>\n",
       "      <td>70.000000</td>\n",
       "      <td>7.000000</td>\n",
       "      <td>0.000000</td>\n",
       "      <td>0.000000</td>\n",
       "      <td>0.000000</td>\n",
       "      <td>0.000000</td>\n",
       "      <td>0.000000</td>\n",
       "      <td>2.000000</td>\n",
       "      <td>3.000000</td>\n",
       "    </tr>\n",
       "    <tr>\n",
       "      <th>25%</th>\n",
       "      <td>16500.000000</td>\n",
       "      <td>3000.000000</td>\n",
       "      <td>2008.000000</td>\n",
       "      <td>47100.000000</td>\n",
       "      <td>2.000000</td>\n",
       "      <td>18.000000</td>\n",
       "      <td>25.000000</td>\n",
       "      <td>160.000000</td>\n",
       "      <td>14.000000</td>\n",
       "      <td>2013.000000</td>\n",
       "      <td>...</td>\n",
       "      <td>25.000000</td>\n",
       "      <td>176.000000</td>\n",
       "      <td>14.000000</td>\n",
       "      <td>0.000000</td>\n",
       "      <td>1.000000</td>\n",
       "      <td>1.000000</td>\n",
       "      <td>0.000000</td>\n",
       "      <td>0.000000</td>\n",
       "      <td>4.000000</td>\n",
       "      <td>4.000000</td>\n",
       "    </tr>\n",
       "    <tr>\n",
       "      <th>50%</th>\n",
       "      <td>20200.000000</td>\n",
       "      <td>6800.000000</td>\n",
       "      <td>2011.000000</td>\n",
       "      <td>75100.000000</td>\n",
       "      <td>2.500000</td>\n",
       "      <td>22.000000</td>\n",
       "      <td>30.000000</td>\n",
       "      <td>184.000000</td>\n",
       "      <td>17.000000</td>\n",
       "      <td>2014.000000</td>\n",
       "      <td>...</td>\n",
       "      <td>29.000000</td>\n",
       "      <td>206.000000</td>\n",
       "      <td>16.000000</td>\n",
       "      <td>0.000000</td>\n",
       "      <td>1.000000</td>\n",
       "      <td>1.000000</td>\n",
       "      <td>0.000000</td>\n",
       "      <td>0.000000</td>\n",
       "      <td>4.000000</td>\n",
       "      <td>4.000000</td>\n",
       "    </tr>\n",
       "    <tr>\n",
       "      <th>75%</th>\n",
       "      <td>25500.000000</td>\n",
       "      <td>12800.000000</td>\n",
       "      <td>2013.000000</td>\n",
       "      <td>106500.000000</td>\n",
       "      <td>3.500000</td>\n",
       "      <td>26.000000</td>\n",
       "      <td>35.000000</td>\n",
       "      <td>278.000000</td>\n",
       "      <td>20.000000</td>\n",
       "      <td>2015.000000</td>\n",
       "      <td>...</td>\n",
       "      <td>33.000000</td>\n",
       "      <td>290.000000</td>\n",
       "      <td>19.000000</td>\n",
       "      <td>1.000000</td>\n",
       "      <td>1.000000</td>\n",
       "      <td>1.000000</td>\n",
       "      <td>1.000000</td>\n",
       "      <td>1.000000</td>\n",
       "      <td>6.000000</td>\n",
       "      <td>6.000000</td>\n",
       "    </tr>\n",
       "    <tr>\n",
       "      <th>max</th>\n",
       "      <td>95200.000000</td>\n",
       "      <td>69800.000000</td>\n",
       "      <td>2019.000000</td>\n",
       "      <td>482500.000000</td>\n",
       "      <td>7.000000</td>\n",
       "      <td>60.000000</td>\n",
       "      <td>54.000000</td>\n",
       "      <td>702.000000</td>\n",
       "      <td>38.000000</td>\n",
       "      <td>2019.000000</td>\n",
       "      <td>...</td>\n",
       "      <td>59.000000</td>\n",
       "      <td>760.000000</td>\n",
       "      <td>38.000000</td>\n",
       "      <td>7.000000</td>\n",
       "      <td>1.000000</td>\n",
       "      <td>1.000000</td>\n",
       "      <td>1.000000</td>\n",
       "      <td>1.000000</td>\n",
       "      <td>16.000000</td>\n",
       "      <td>8.000000</td>\n",
       "    </tr>\n",
       "  </tbody>\n",
       "</table>\n",
       "<p>8 rows × 23 columns</p>\n",
       "</div>"
      ],
      "text/plain": [
       "               price  appraisal_offer  model_year_appraisal  \\\n",
       "count  111543.000000    111543.000000         111543.000000   \n",
       "mean    21703.676609      8702.079915           2010.131752   \n",
       "std      6865.891718      7157.055694              3.887661   \n",
       "min      3700.000000         0.000000           1992.000000   \n",
       "25%     16500.000000      3000.000000           2008.000000   \n",
       "50%     20200.000000      6800.000000           2011.000000   \n",
       "75%     25500.000000     12800.000000           2013.000000   \n",
       "max     95200.000000     69800.000000           2019.000000   \n",
       "\n",
       "       mileage_appraisal  engine_appraisal  mpg_city_appraisal  \\\n",
       "count      111543.000000     111543.000000       111543.000000   \n",
       "mean        80629.963333          2.786724           22.255453   \n",
       "std         43751.178018          1.066918            5.306000   \n",
       "min             0.000000          1.000000           10.000000   \n",
       "25%         47100.000000          2.000000           18.000000   \n",
       "50%         75100.000000          2.500000           22.000000   \n",
       "75%        106500.000000          3.500000           26.000000   \n",
       "max        482500.000000          7.000000           60.000000   \n",
       "\n",
       "       mpg_highway_appraisal  horsepower_appraisal  fuel_capacity_appraisal  \\\n",
       "count          111543.000000         111543.000000            111543.000000   \n",
       "mean               30.227016            214.677882                17.387501   \n",
       "std                 6.181651             73.567761                 4.454514   \n",
       "min                13.000000             70.000000                 7.000000   \n",
       "25%                25.000000            160.000000                14.000000   \n",
       "50%                30.000000            184.000000                17.000000   \n",
       "75%                35.000000            278.000000                20.000000   \n",
       "max                54.000000            702.000000                38.000000   \n",
       "\n",
       "          model_year  ...    mpg_highway     horsepower  fuel_capacity  \\\n",
       "count  111543.000000  ...  111543.000000  111543.000000  111543.000000   \n",
       "mean     2014.235021  ...      29.573653     235.593861      17.456147   \n",
       "std         1.878096  ...       5.833848      75.972278       4.320093   \n",
       "min      2005.000000  ...      16.000000      70.000000       7.000000   \n",
       "25%      2013.000000  ...      25.000000     176.000000      14.000000   \n",
       "50%      2014.000000  ...      29.000000     206.000000      16.000000   \n",
       "75%      2015.000000  ...      33.000000     290.000000      19.000000   \n",
       "max      2019.000000  ...      59.000000     760.000000      38.000000   \n",
       "\n",
       "       days_since_offer  cylinders_even  cylinders_even_appraisal  \\\n",
       "count     111543.000000   111543.000000             111543.000000   \n",
       "mean           1.263011        0.995383                  0.991582   \n",
       "std            2.291600        0.067792                  0.091365   \n",
       "min            0.000000        0.000000                  0.000000   \n",
       "25%            0.000000        1.000000                  1.000000   \n",
       "50%            0.000000        1.000000                  1.000000   \n",
       "75%            1.000000        1.000000                  1.000000   \n",
       "max            7.000000        1.000000                  1.000000   \n",
       "\n",
       "       cylinders_high  cylinders_high_appraisal      cylinders  \\\n",
       "count   111543.000000             111543.000000  111543.000000   \n",
       "mean         0.386721                  0.369033       4.946066   \n",
       "std          0.487001                  0.482545       1.312961   \n",
       "min          0.000000                  0.000000       2.000000   \n",
       "25%          0.000000                  0.000000       4.000000   \n",
       "50%          0.000000                  0.000000       4.000000   \n",
       "75%          1.000000                  1.000000       6.000000   \n",
       "max          1.000000                  1.000000      16.000000   \n",
       "\n",
       "       cylinders_appraisal  \n",
       "count        111543.000000  \n",
       "mean              4.907964  \n",
       "std               1.286500  \n",
       "min               3.000000  \n",
       "25%               4.000000  \n",
       "50%               4.000000  \n",
       "75%               6.000000  \n",
       "max               8.000000  \n",
       "\n",
       "[8 rows x 23 columns]"
      ]
     },
     "execution_count": 10,
     "metadata": {},
     "output_type": "execute_result"
    }
   ],
   "source": [
    "data.describe()"
   ]
  },
  {
   "cell_type": "markdown",
   "metadata": {},
   "source": [
    "## Now, let's begin to explore the data by answering some questions we may have."
   ]
  },
  {
   "cell_type": "markdown",
   "metadata": {},
   "source": [
    "### How many observations are there per model and make of vehicle appraised?"
   ]
  },
  {
   "cell_type": "code",
   "execution_count": 11,
   "metadata": {},
   "outputs": [
    {
     "data": {
      "text/plain": [
       "model_appraisal\n",
       "Civic      4695\n",
       "Altima     4267\n",
       "Accord     4167\n",
       "Camry      3633\n",
       "Escape     3062\n",
       "F150       3021\n",
       "Rogue      3018\n",
       "Elantra    2938\n",
       "Corolla    2912\n",
       "Sentra     2504\n",
       "Name: count, dtype: int64"
      ]
     },
     "execution_count": 11,
     "metadata": {},
     "output_type": "execute_result"
    }
   ],
   "source": [
    "data[\"model_appraisal\"].value_counts().sort_values(ascending=False).head(10)"
   ]
  },
  {
   "cell_type": "code",
   "execution_count": 12,
   "metadata": {},
   "outputs": [
    {
     "data": {
      "text/plain": [
       "make_appraisal\n",
       "Ford          15822\n",
       "Nissan        14483\n",
       "Chevrolet     13365\n",
       "Toyota        12533\n",
       "Honda         11673\n",
       "Jeep           9943\n",
       "Hyundai        7649\n",
       "Dodge          5264\n",
       "Kia            4924\n",
       "Volkswagen     2716\n",
       "Name: count, dtype: int64"
      ]
     },
     "execution_count": 12,
     "metadata": {},
     "output_type": "execute_result"
    }
   ],
   "source": [
    "data[\"make_appraisal\"].value_counts().sort_values(ascending=False).head(10)"
   ]
  },
  {
   "cell_type": "markdown",
   "metadata": {},
   "source": [
    "It looks like Fords are the most observed traded-in brand of car but the Honda Civic is the most commonly traded-in model of car."
   ]
  },
  {
   "cell_type": "markdown",
   "metadata": {},
   "source": [
    "### What are the most commonly bought makes and models?"
   ]
  },
  {
   "cell_type": "code",
   "execution_count": 19,
   "metadata": {},
   "outputs": [
    {
     "data": {
      "text/plain": [
       "model\n",
       "Civic             3840\n",
       "Grand Cherokee    3552\n",
       "Rogue             3285\n",
       "Camry             3157\n",
       "Accord            3056\n",
       "1500              2953\n",
       "RAV4              2850\n",
       "Equinox           2746\n",
       "CR-V              2666\n",
       "F150              2504\n",
       "Name: count, dtype: int64"
      ]
     },
     "execution_count": 19,
     "metadata": {},
     "output_type": "execute_result"
    }
   ],
   "source": [
    "data[\"model\"].value_counts().sort_values(ascending=False).head(10)"
   ]
  },
  {
   "cell_type": "code",
   "execution_count": 20,
   "metadata": {},
   "outputs": [
    {
     "data": {
      "text/plain": [
       "make\n",
       "Toyota        16137\n",
       "Honda         13437\n",
       "Jeep          10817\n",
       "Ford          10660\n",
       "Chevrolet      9886\n",
       "Nissan         9452\n",
       "Hyundai        5436\n",
       "Kia            4057\n",
       "Subaru         3764\n",
       "Volkswagen     3579\n",
       "Name: count, dtype: int64"
      ]
     },
     "execution_count": 20,
     "metadata": {},
     "output_type": "execute_result"
    }
   ],
   "source": [
    "data[\"make\"].value_counts().sort_values(ascending=False).head(10)"
   ]
  },
  {
   "cell_type": "markdown",
   "metadata": {},
   "source": [
    "Civics are the most popular type of car to purchase after a trade-in but Toyotas are the more popular brand overall. "
   ]
  },
  {
   "cell_type": "markdown",
   "metadata": {},
   "source": [
    "### How popular are different colors?"
   ]
  },
  {
   "cell_type": "code",
   "execution_count": 22,
   "metadata": {},
   "outputs": [
    {
     "data": {
      "text/plain": [
       "color_grouped\n",
       "White     28353\n",
       "Black     26463\n",
       "Gray      24793\n",
       "Silver    12586\n",
       "Blue       9904\n",
       "Red        6259\n",
       "Other      3185\n",
       "Name: count, dtype: int64"
      ]
     },
     "execution_count": 22,
     "metadata": {},
     "output_type": "execute_result"
    }
   ],
   "source": [
    "data[\"color_grouped\"].value_counts().sort_values(ascending=False)"
   ]
  },
  {
   "cell_type": "markdown",
   "metadata": {},
   "source": [
    "White is the most popular color car for buyers."
   ]
  },
  {
   "cell_type": "markdown",
   "metadata": {},
   "source": [
    "### Can we learn anything about the value of different colors for trade-ins and purchases?"
   ]
  },
  {
   "cell_type": "code",
   "execution_count": 27,
   "metadata": {},
   "outputs": [
    {
     "data": {
      "text/html": [
       "<div>\n",
       "<style scoped>\n",
       "    .dataframe tbody tr th:only-of-type {\n",
       "        vertical-align: middle;\n",
       "    }\n",
       "\n",
       "    .dataframe tbody tr th {\n",
       "        vertical-align: top;\n",
       "    }\n",
       "\n",
       "    .dataframe thead th {\n",
       "        text-align: right;\n",
       "    }\n",
       "</style>\n",
       "<table border=\"1\" class=\"dataframe\">\n",
       "  <thead>\n",
       "    <tr style=\"text-align: right;\">\n",
       "      <th></th>\n",
       "      <th>appraisal_offer</th>\n",
       "    </tr>\n",
       "    <tr>\n",
       "      <th>color_grouped_appraisal</th>\n",
       "      <th></th>\n",
       "    </tr>\n",
       "  </thead>\n",
       "  <tbody>\n",
       "    <tr>\n",
       "      <th>White</th>\n",
       "      <td>9820.125491</td>\n",
       "    </tr>\n",
       "    <tr>\n",
       "      <th>Black</th>\n",
       "      <td>9427.602541</td>\n",
       "    </tr>\n",
       "    <tr>\n",
       "      <th>Gray</th>\n",
       "      <td>9278.975876</td>\n",
       "    </tr>\n",
       "    <tr>\n",
       "      <th>Red</th>\n",
       "      <td>8190.619841</td>\n",
       "    </tr>\n",
       "    <tr>\n",
       "      <th>Blue</th>\n",
       "      <td>7454.586694</td>\n",
       "    </tr>\n",
       "    <tr>\n",
       "      <th>Silver</th>\n",
       "      <td>6824.636852</td>\n",
       "    </tr>\n",
       "    <tr>\n",
       "      <th>Other</th>\n",
       "      <td>6634.317572</td>\n",
       "    </tr>\n",
       "  </tbody>\n",
       "</table>\n",
       "</div>"
      ],
      "text/plain": [
       "                         appraisal_offer\n",
       "color_grouped_appraisal                 \n",
       "White                        9820.125491\n",
       "Black                        9427.602541\n",
       "Gray                         9278.975876\n",
       "Red                          8190.619841\n",
       "Blue                         7454.586694\n",
       "Silver                       6824.636852\n",
       "Other                        6634.317572"
      ]
     },
     "execution_count": 27,
     "metadata": {},
     "output_type": "execute_result"
    }
   ],
   "source": [
    "data[[\"color_grouped_appraisal\", \"appraisal_offer\"]].groupby(\"color_grouped_appraisal\").mean().sort_values(by = \"appraisal_offer\", ascending=False)"
   ]
  },
  {
   "cell_type": "code",
   "execution_count": 28,
   "metadata": {},
   "outputs": [
    {
     "data": {
      "text/html": [
       "<div>\n",
       "<style scoped>\n",
       "    .dataframe tbody tr th:only-of-type {\n",
       "        vertical-align: middle;\n",
       "    }\n",
       "\n",
       "    .dataframe tbody tr th {\n",
       "        vertical-align: top;\n",
       "    }\n",
       "\n",
       "    .dataframe thead th {\n",
       "        text-align: right;\n",
       "    }\n",
       "</style>\n",
       "<table border=\"1\" class=\"dataframe\">\n",
       "  <thead>\n",
       "    <tr style=\"text-align: right;\">\n",
       "      <th></th>\n",
       "      <th>price</th>\n",
       "    </tr>\n",
       "    <tr>\n",
       "      <th>color_grouped</th>\n",
       "      <th></th>\n",
       "    </tr>\n",
       "  </thead>\n",
       "  <tbody>\n",
       "    <tr>\n",
       "      <th>Black</th>\n",
       "      <td>22501.753392</td>\n",
       "    </tr>\n",
       "    <tr>\n",
       "      <th>White</th>\n",
       "      <td>22109.935457</td>\n",
       "    </tr>\n",
       "    <tr>\n",
       "      <th>Gray</th>\n",
       "      <td>21708.155528</td>\n",
       "    </tr>\n",
       "    <tr>\n",
       "      <th>Other</th>\n",
       "      <td>21644.992151</td>\n",
       "    </tr>\n",
       "    <tr>\n",
       "      <th>Blue</th>\n",
       "      <td>20880.492730</td>\n",
       "    </tr>\n",
       "    <tr>\n",
       "      <th>Red</th>\n",
       "      <td>20743.745007</td>\n",
       "    </tr>\n",
       "    <tr>\n",
       "      <th>Silver</th>\n",
       "      <td>20241.633561</td>\n",
       "    </tr>\n",
       "  </tbody>\n",
       "</table>\n",
       "</div>"
      ],
      "text/plain": [
       "                      price\n",
       "color_grouped              \n",
       "Black          22501.753392\n",
       "White          22109.935457\n",
       "Gray           21708.155528\n",
       "Other          21644.992151\n",
       "Blue           20880.492730\n",
       "Red            20743.745007\n",
       "Silver         20241.633561"
      ]
     },
     "execution_count": 28,
     "metadata": {},
     "output_type": "execute_result"
    }
   ],
   "source": [
    "data[[\"color_grouped\", \"price\"]].groupby(\"color_grouped\").mean().sort_values(by = \"price\", ascending=False)"
   ]
  },
  {
   "cell_type": "markdown",
   "metadata": {},
   "source": [
    "Even though white sells more and trades in for a higher value on average, black cars appear to command higher prices in the market."
   ]
  },
  {
   "cell_type": "markdown",
   "metadata": {},
   "source": [
    "### How are the variables correlated with how much a customer will eventually pay for a car from CarMax?"
   ]
  },
  {
   "cell_type": "code",
   "execution_count": 13,
   "metadata": {},
   "outputs": [
    {
     "name": "stdout",
     "output_type": "stream",
     "text": [
      "Numeric Columns: ['price', 'appraisal_offer', 'model_year_appraisal', 'mileage_appraisal', 'engine_appraisal', 'mpg_city_appraisal', 'mpg_highway_appraisal', 'horsepower_appraisal', 'fuel_capacity_appraisal', 'model_year', 'mileage', 'engine', 'mpg_city', 'mpg_highway', 'horsepower', 'fuel_capacity', 'days_since_offer', 'cylinders_even', 'cylinders_even_appraisal', 'cylinders_high', 'cylinders_high_appraisal', 'cylinders', 'cylinders_appraisal']\n"
     ]
    }
   ],
   "source": [
    "num_cols = list()\n",
    "for i in data.columns:\n",
    "    if data[i].dtype == \"int64\" or data[i].dtype == \"int32\" or data[i].dtype == \"float64\" or data[i].dtype == \"float64\":\n",
    "        num_cols.append(i)\n",
    "    else:\n",
    "        pass  \n",
    "    \n",
    "print(f\"Numeric Columns: {num_cols}\")  "
   ]
  },
  {
   "cell_type": "code",
   "execution_count": 14,
   "metadata": {},
   "outputs": [
    {
     "data": {
      "text/html": [
       "<div>\n",
       "<style scoped>\n",
       "    .dataframe tbody tr th:only-of-type {\n",
       "        vertical-align: middle;\n",
       "    }\n",
       "\n",
       "    .dataframe tbody tr th {\n",
       "        vertical-align: top;\n",
       "    }\n",
       "\n",
       "    .dataframe thead th {\n",
       "        text-align: right;\n",
       "    }\n",
       "</style>\n",
       "<table border=\"1\" class=\"dataframe\">\n",
       "  <thead>\n",
       "    <tr style=\"text-align: right;\">\n",
       "      <th></th>\n",
       "      <th>variable</th>\n",
       "      <th>price</th>\n",
       "    </tr>\n",
       "  </thead>\n",
       "  <tbody>\n",
       "    <tr>\n",
       "      <th>13</th>\n",
       "      <td>mpg_highway</td>\n",
       "      <td>-0.582142</td>\n",
       "    </tr>\n",
       "    <tr>\n",
       "      <th>12</th>\n",
       "      <td>mpg_city</td>\n",
       "      <td>-0.477145</td>\n",
       "    </tr>\n",
       "    <tr>\n",
       "      <th>10</th>\n",
       "      <td>mileage</td>\n",
       "      <td>-0.379379</td>\n",
       "    </tr>\n",
       "    <tr>\n",
       "      <th>6</th>\n",
       "      <td>mpg_highway_appraisal</td>\n",
       "      <td>-0.277225</td>\n",
       "    </tr>\n",
       "    <tr>\n",
       "      <th>5</th>\n",
       "      <td>mpg_city_appraisal</td>\n",
       "      <td>-0.242899</td>\n",
       "    </tr>\n",
       "    <tr>\n",
       "      <th>3</th>\n",
       "      <td>mileage_appraisal</td>\n",
       "      <td>-0.190289</td>\n",
       "    </tr>\n",
       "    <tr>\n",
       "      <th>16</th>\n",
       "      <td>days_since_offer</td>\n",
       "      <td>0.021656</td>\n",
       "    </tr>\n",
       "    <tr>\n",
       "      <th>17</th>\n",
       "      <td>cylinders_even</td>\n",
       "      <td>0.028428</td>\n",
       "    </tr>\n",
       "    <tr>\n",
       "      <th>18</th>\n",
       "      <td>cylinders_even_appraisal</td>\n",
       "      <td>0.032865</td>\n",
       "    </tr>\n",
       "    <tr>\n",
       "      <th>2</th>\n",
       "      <td>model_year_appraisal</td>\n",
       "      <td>0.220073</td>\n",
       "    </tr>\n",
       "    <tr>\n",
       "      <th>20</th>\n",
       "      <td>cylinders_high_appraisal</td>\n",
       "      <td>0.270994</td>\n",
       "    </tr>\n",
       "    <tr>\n",
       "      <th>8</th>\n",
       "      <td>fuel_capacity_appraisal</td>\n",
       "      <td>0.286566</td>\n",
       "    </tr>\n",
       "    <tr>\n",
       "      <th>22</th>\n",
       "      <td>cylinders_appraisal</td>\n",
       "      <td>0.287316</td>\n",
       "    </tr>\n",
       "    <tr>\n",
       "      <th>4</th>\n",
       "      <td>engine_appraisal</td>\n",
       "      <td>0.298455</td>\n",
       "    </tr>\n",
       "    <tr>\n",
       "      <th>7</th>\n",
       "      <td>horsepower_appraisal</td>\n",
       "      <td>0.362347</td>\n",
       "    </tr>\n",
       "    <tr>\n",
       "      <th>1</th>\n",
       "      <td>appraisal_offer</td>\n",
       "      <td>0.367451</td>\n",
       "    </tr>\n",
       "    <tr>\n",
       "      <th>9</th>\n",
       "      <td>model_year</td>\n",
       "      <td>0.440484</td>\n",
       "    </tr>\n",
       "    <tr>\n",
       "      <th>19</th>\n",
       "      <td>cylinders_high</td>\n",
       "      <td>0.541054</td>\n",
       "    </tr>\n",
       "    <tr>\n",
       "      <th>11</th>\n",
       "      <td>engine</td>\n",
       "      <td>0.577421</td>\n",
       "    </tr>\n",
       "    <tr>\n",
       "      <th>21</th>\n",
       "      <td>cylinders</td>\n",
       "      <td>0.584109</td>\n",
       "    </tr>\n",
       "    <tr>\n",
       "      <th>15</th>\n",
       "      <td>fuel_capacity</td>\n",
       "      <td>0.591591</td>\n",
       "    </tr>\n",
       "    <tr>\n",
       "      <th>14</th>\n",
       "      <td>horsepower</td>\n",
       "      <td>0.697307</td>\n",
       "    </tr>\n",
       "    <tr>\n",
       "      <th>0</th>\n",
       "      <td>price</td>\n",
       "      <td>1.000000</td>\n",
       "    </tr>\n",
       "  </tbody>\n",
       "</table>\n",
       "</div>"
      ],
      "text/plain": [
       "                    variable     price\n",
       "13               mpg_highway -0.582142\n",
       "12                  mpg_city -0.477145\n",
       "10                   mileage -0.379379\n",
       "6      mpg_highway_appraisal -0.277225\n",
       "5         mpg_city_appraisal -0.242899\n",
       "3          mileage_appraisal -0.190289\n",
       "16          days_since_offer  0.021656\n",
       "17            cylinders_even  0.028428\n",
       "18  cylinders_even_appraisal  0.032865\n",
       "2       model_year_appraisal  0.220073\n",
       "20  cylinders_high_appraisal  0.270994\n",
       "8    fuel_capacity_appraisal  0.286566\n",
       "22       cylinders_appraisal  0.287316\n",
       "4           engine_appraisal  0.298455\n",
       "7       horsepower_appraisal  0.362347\n",
       "1            appraisal_offer  0.367451\n",
       "9                 model_year  0.440484\n",
       "19            cylinders_high  0.541054\n",
       "11                    engine  0.577421\n",
       "21                 cylinders  0.584109\n",
       "15             fuel_capacity  0.591591\n",
       "14                horsepower  0.697307\n",
       "0                      price  1.000000"
      ]
     },
     "execution_count": 14,
     "metadata": {},
     "output_type": "execute_result"
    }
   ],
   "source": [
    "correlations = pd.DataFrame(data[num_cols].corr()).reset_index().rename(columns = {\"index\":\"variable\"})\n",
    "correlations[[\"variable\", \"price\"]].sort_values(by = \"price\")"
   ]
  },
  {
   "cell_type": "markdown",
   "metadata": {},
   "source": [
    "Looks like the mileage of the car they are buying is the most negative factor in the price of the car they buy. On the otherhand, cars with higher horsepowers tend to be sold at a higher price."
   ]
  },
  {
   "cell_type": "markdown",
   "metadata": {},
   "source": [
    "### Can we drill down to see correlations between variables for appraised and purchased vehicles specifically?"
   ]
  },
  {
   "cell_type": "code",
   "execution_count": 15,
   "metadata": {},
   "outputs": [],
   "source": [
    "appraised_cols = list()\n",
    "purchased_cols = list()\n",
    "for i in num_cols:\n",
    "    if \"appraisal\" in i:\n",
    "        appraised_cols.append(i)\n",
    "    else:\n",
    "        purchased_cols.append(i)"
   ]
  },
  {
   "cell_type": "code",
   "execution_count": 16,
   "metadata": {},
   "outputs": [
    {
     "data": {
      "text/html": [
       "<div>\n",
       "<style scoped>\n",
       "    .dataframe tbody tr th:only-of-type {\n",
       "        vertical-align: middle;\n",
       "    }\n",
       "\n",
       "    .dataframe tbody tr th {\n",
       "        vertical-align: top;\n",
       "    }\n",
       "\n",
       "    .dataframe thead th {\n",
       "        text-align: right;\n",
       "    }\n",
       "</style>\n",
       "<table border=\"1\" class=\"dataframe\">\n",
       "  <thead>\n",
       "    <tr style=\"text-align: right;\">\n",
       "      <th></th>\n",
       "      <th>variable</th>\n",
       "      <th>appraisal_offer</th>\n",
       "    </tr>\n",
       "  </thead>\n",
       "  <tbody>\n",
       "    <tr>\n",
       "      <th>2</th>\n",
       "      <td>mileage_appraisal</td>\n",
       "      <td>-0.703084</td>\n",
       "    </tr>\n",
       "    <tr>\n",
       "      <th>5</th>\n",
       "      <td>mpg_highway_appraisal</td>\n",
       "      <td>-0.249676</td>\n",
       "    </tr>\n",
       "    <tr>\n",
       "      <th>4</th>\n",
       "      <td>mpg_city_appraisal</td>\n",
       "      <td>-0.186510</td>\n",
       "    </tr>\n",
       "    <tr>\n",
       "      <th>8</th>\n",
       "      <td>cylinders_even_appraisal</td>\n",
       "      <td>0.046837</td>\n",
       "    </tr>\n",
       "    <tr>\n",
       "      <th>9</th>\n",
       "      <td>cylinders_high_appraisal</td>\n",
       "      <td>0.241081</td>\n",
       "    </tr>\n",
       "    <tr>\n",
       "      <th>7</th>\n",
       "      <td>fuel_capacity_appraisal</td>\n",
       "      <td>0.248726</td>\n",
       "    </tr>\n",
       "    <tr>\n",
       "      <th>10</th>\n",
       "      <td>cylinders_appraisal</td>\n",
       "      <td>0.280374</td>\n",
       "    </tr>\n",
       "    <tr>\n",
       "      <th>3</th>\n",
       "      <td>engine_appraisal</td>\n",
       "      <td>0.295929</td>\n",
       "    </tr>\n",
       "    <tr>\n",
       "      <th>6</th>\n",
       "      <td>horsepower_appraisal</td>\n",
       "      <td>0.449138</td>\n",
       "    </tr>\n",
       "    <tr>\n",
       "      <th>1</th>\n",
       "      <td>model_year_appraisal</td>\n",
       "      <td>0.701275</td>\n",
       "    </tr>\n",
       "    <tr>\n",
       "      <th>0</th>\n",
       "      <td>appraisal_offer</td>\n",
       "      <td>1.000000</td>\n",
       "    </tr>\n",
       "  </tbody>\n",
       "</table>\n",
       "</div>"
      ],
      "text/plain": [
       "                    variable  appraisal_offer\n",
       "2          mileage_appraisal        -0.703084\n",
       "5      mpg_highway_appraisal        -0.249676\n",
       "4         mpg_city_appraisal        -0.186510\n",
       "8   cylinders_even_appraisal         0.046837\n",
       "9   cylinders_high_appraisal         0.241081\n",
       "7    fuel_capacity_appraisal         0.248726\n",
       "10       cylinders_appraisal         0.280374\n",
       "3           engine_appraisal         0.295929\n",
       "6       horsepower_appraisal         0.449138\n",
       "1       model_year_appraisal         0.701275\n",
       "0            appraisal_offer         1.000000"
      ]
     },
     "execution_count": 16,
     "metadata": {},
     "output_type": "execute_result"
    }
   ],
   "source": [
    "correlations_appraisal = pd.DataFrame(data[appraised_cols].corr()).reset_index().rename(columns = {\"index\":\"variable\"})\n",
    "correlations_appraisal[[\"variable\", \"appraisal_offer\"]].sort_values(by = \"appraisal_offer\")"
   ]
  },
  {
   "cell_type": "markdown",
   "metadata": {},
   "source": [
    "Looks like how new a car is is a strong predictor of the offer it will receive. As we saw with price, appraised cars with high high mileage are associated with lower appraisal offers."
   ]
  },
  {
   "cell_type": "code",
   "execution_count": 17,
   "metadata": {},
   "outputs": [
    {
     "data": {
      "text/html": [
       "<div>\n",
       "<style scoped>\n",
       "    .dataframe tbody tr th:only-of-type {\n",
       "        vertical-align: middle;\n",
       "    }\n",
       "\n",
       "    .dataframe tbody tr th {\n",
       "        vertical-align: top;\n",
       "    }\n",
       "\n",
       "    .dataframe thead th {\n",
       "        text-align: right;\n",
       "    }\n",
       "</style>\n",
       "<table border=\"1\" class=\"dataframe\">\n",
       "  <thead>\n",
       "    <tr style=\"text-align: right;\">\n",
       "      <th></th>\n",
       "      <th>variable</th>\n",
       "      <th>price</th>\n",
       "    </tr>\n",
       "  </thead>\n",
       "  <tbody>\n",
       "    <tr>\n",
       "      <th>5</th>\n",
       "      <td>mpg_highway</td>\n",
       "      <td>-0.582142</td>\n",
       "    </tr>\n",
       "    <tr>\n",
       "      <th>4</th>\n",
       "      <td>mpg_city</td>\n",
       "      <td>-0.477145</td>\n",
       "    </tr>\n",
       "    <tr>\n",
       "      <th>2</th>\n",
       "      <td>mileage</td>\n",
       "      <td>-0.379379</td>\n",
       "    </tr>\n",
       "    <tr>\n",
       "      <th>8</th>\n",
       "      <td>days_since_offer</td>\n",
       "      <td>0.021656</td>\n",
       "    </tr>\n",
       "    <tr>\n",
       "      <th>9</th>\n",
       "      <td>cylinders_even</td>\n",
       "      <td>0.028428</td>\n",
       "    </tr>\n",
       "    <tr>\n",
       "      <th>1</th>\n",
       "      <td>model_year</td>\n",
       "      <td>0.440484</td>\n",
       "    </tr>\n",
       "    <tr>\n",
       "      <th>10</th>\n",
       "      <td>cylinders_high</td>\n",
       "      <td>0.541054</td>\n",
       "    </tr>\n",
       "    <tr>\n",
       "      <th>3</th>\n",
       "      <td>engine</td>\n",
       "      <td>0.577421</td>\n",
       "    </tr>\n",
       "    <tr>\n",
       "      <th>11</th>\n",
       "      <td>cylinders</td>\n",
       "      <td>0.584109</td>\n",
       "    </tr>\n",
       "    <tr>\n",
       "      <th>7</th>\n",
       "      <td>fuel_capacity</td>\n",
       "      <td>0.591591</td>\n",
       "    </tr>\n",
       "    <tr>\n",
       "      <th>6</th>\n",
       "      <td>horsepower</td>\n",
       "      <td>0.697307</td>\n",
       "    </tr>\n",
       "    <tr>\n",
       "      <th>0</th>\n",
       "      <td>price</td>\n",
       "      <td>1.000000</td>\n",
       "    </tr>\n",
       "  </tbody>\n",
       "</table>\n",
       "</div>"
      ],
      "text/plain": [
       "            variable     price\n",
       "5        mpg_highway -0.582142\n",
       "4           mpg_city -0.477145\n",
       "2            mileage -0.379379\n",
       "8   days_since_offer  0.021656\n",
       "9     cylinders_even  0.028428\n",
       "1         model_year  0.440484\n",
       "10    cylinders_high  0.541054\n",
       "3             engine  0.577421\n",
       "11         cylinders  0.584109\n",
       "7      fuel_capacity  0.591591\n",
       "6         horsepower  0.697307\n",
       "0              price  1.000000"
      ]
     },
     "execution_count": 17,
     "metadata": {},
     "output_type": "execute_result"
    }
   ],
   "source": [
    "correlations_purchased = pd.DataFrame(data[purchased_cols].corr()).reset_index().rename(columns = {\"index\":\"variable\"})\n",
    "correlations_purchased[[\"variable\", \"price\"]].sort_values(by = \"price\")"
   ]
  },
  {
   "cell_type": "markdown",
   "metadata": {},
   "source": [
    "Horsepower, fuel efficiency, and fuel capacity seem to be important to customers when they are looking at how much ther are willing to pay for a car."
   ]
  },
  {
   "cell_type": "markdown",
   "metadata": {},
   "source": [
    "### Are there differences in purchasing behavior between US Regions?"
   ]
  },
  {
   "cell_type": "markdown",
   "metadata": {},
   "source": [
    "Below are the most popular makes, models, and colors across regions."
   ]
  },
  {
   "cell_type": "code",
   "execution_count": 41,
   "metadata": {},
   "outputs": [
    {
     "data": {
      "text/html": [
       "<div>\n",
       "<style scoped>\n",
       "    .dataframe tbody tr th:only-of-type {\n",
       "        vertical-align: middle;\n",
       "    }\n",
       "\n",
       "    .dataframe tbody tr th {\n",
       "        vertical-align: top;\n",
       "    }\n",
       "\n",
       "    .dataframe thead th {\n",
       "        text-align: right;\n",
       "    }\n",
       "</style>\n",
       "<table border=\"1\" class=\"dataframe\">\n",
       "  <thead>\n",
       "    <tr style=\"text-align: right;\">\n",
       "      <th></th>\n",
       "      <th>make</th>\n",
       "    </tr>\n",
       "    <tr>\n",
       "      <th>region</th>\n",
       "      <th></th>\n",
       "    </tr>\n",
       "  </thead>\n",
       "  <tbody>\n",
       "    <tr>\n",
       "      <th>Midwest</th>\n",
       "      <td>Jeep</td>\n",
       "    </tr>\n",
       "    <tr>\n",
       "      <th>Northeast</th>\n",
       "      <td>Jeep</td>\n",
       "    </tr>\n",
       "    <tr>\n",
       "      <th>South</th>\n",
       "      <td>Toyota</td>\n",
       "    </tr>\n",
       "    <tr>\n",
       "      <th>West</th>\n",
       "      <td>Toyota</td>\n",
       "    </tr>\n",
       "  </tbody>\n",
       "</table>\n",
       "</div>"
      ],
      "text/plain": [
       "             make\n",
       "region           \n",
       "Midwest      Jeep\n",
       "Northeast    Jeep\n",
       "South      Toyota\n",
       "West       Toyota"
      ]
     },
     "execution_count": 41,
     "metadata": {},
     "output_type": "execute_result"
    }
   ],
   "source": [
    "data[[\"region\", \"make\"]].groupby(\"region\")[\"make\"].agg(pd.Series.mode).to_frame()"
   ]
  },
  {
   "cell_type": "code",
   "execution_count": 42,
   "metadata": {},
   "outputs": [
    {
     "data": {
      "text/html": [
       "<div>\n",
       "<style scoped>\n",
       "    .dataframe tbody tr th:only-of-type {\n",
       "        vertical-align: middle;\n",
       "    }\n",
       "\n",
       "    .dataframe tbody tr th {\n",
       "        vertical-align: top;\n",
       "    }\n",
       "\n",
       "    .dataframe thead th {\n",
       "        text-align: right;\n",
       "    }\n",
       "</style>\n",
       "<table border=\"1\" class=\"dataframe\">\n",
       "  <thead>\n",
       "    <tr style=\"text-align: right;\">\n",
       "      <th></th>\n",
       "      <th>model</th>\n",
       "    </tr>\n",
       "    <tr>\n",
       "      <th>region</th>\n",
       "      <th></th>\n",
       "    </tr>\n",
       "  </thead>\n",
       "  <tbody>\n",
       "    <tr>\n",
       "      <th>Midwest</th>\n",
       "      <td>Equinox</td>\n",
       "    </tr>\n",
       "    <tr>\n",
       "      <th>Northeast</th>\n",
       "      <td>Grand Cherokee</td>\n",
       "    </tr>\n",
       "    <tr>\n",
       "      <th>South</th>\n",
       "      <td>Rogue</td>\n",
       "    </tr>\n",
       "    <tr>\n",
       "      <th>West</th>\n",
       "      <td>Civic</td>\n",
       "    </tr>\n",
       "  </tbody>\n",
       "</table>\n",
       "</div>"
      ],
      "text/plain": [
       "                    model\n",
       "region                   \n",
       "Midwest           Equinox\n",
       "Northeast  Grand Cherokee\n",
       "South               Rogue\n",
       "West                Civic"
      ]
     },
     "execution_count": 42,
     "metadata": {},
     "output_type": "execute_result"
    }
   ],
   "source": [
    "data[[\"region\", \"model\"]].groupby(\"region\")[\"model\"].agg(pd.Series.mode).to_frame()"
   ]
  },
  {
   "cell_type": "code",
   "execution_count": 43,
   "metadata": {},
   "outputs": [
    {
     "data": {
      "text/html": [
       "<div>\n",
       "<style scoped>\n",
       "    .dataframe tbody tr th:only-of-type {\n",
       "        vertical-align: middle;\n",
       "    }\n",
       "\n",
       "    .dataframe tbody tr th {\n",
       "        vertical-align: top;\n",
       "    }\n",
       "\n",
       "    .dataframe thead th {\n",
       "        text-align: right;\n",
       "    }\n",
       "</style>\n",
       "<table border=\"1\" class=\"dataframe\">\n",
       "  <thead>\n",
       "    <tr style=\"text-align: right;\">\n",
       "      <th></th>\n",
       "      <th>color_grouped</th>\n",
       "    </tr>\n",
       "    <tr>\n",
       "      <th>region</th>\n",
       "      <th></th>\n",
       "    </tr>\n",
       "  </thead>\n",
       "  <tbody>\n",
       "    <tr>\n",
       "      <th>Midwest</th>\n",
       "      <td>Black</td>\n",
       "    </tr>\n",
       "    <tr>\n",
       "      <th>Northeast</th>\n",
       "      <td>Black</td>\n",
       "    </tr>\n",
       "    <tr>\n",
       "      <th>South</th>\n",
       "      <td>Black</td>\n",
       "    </tr>\n",
       "    <tr>\n",
       "      <th>West</th>\n",
       "      <td>White</td>\n",
       "    </tr>\n",
       "  </tbody>\n",
       "</table>\n",
       "</div>"
      ],
      "text/plain": [
       "          color_grouped\n",
       "region                 \n",
       "Midwest           Black\n",
       "Northeast         Black\n",
       "South             Black\n",
       "West              White"
      ]
     },
     "execution_count": 43,
     "metadata": {},
     "output_type": "execute_result"
    }
   ],
   "source": [
    "data[[\"region\", \"color_grouped\"]].groupby(\"region\")[\"color_grouped\"].agg(pd.Series.mode).to_frame()"
   ]
  },
  {
   "cell_type": "markdown",
   "metadata": {},
   "source": [
    "Let's see which region is generating the highest sales"
   ]
  },
  {
   "cell_type": "code",
   "execution_count": 50,
   "metadata": {},
   "outputs": [
    {
     "data": {
      "text/html": [
       "<div>\n",
       "<style scoped>\n",
       "    .dataframe tbody tr th:only-of-type {\n",
       "        vertical-align: middle;\n",
       "    }\n",
       "\n",
       "    .dataframe tbody tr th {\n",
       "        vertical-align: top;\n",
       "    }\n",
       "\n",
       "    .dataframe thead th {\n",
       "        text-align: right;\n",
       "    }\n",
       "</style>\n",
       "<table border=\"1\" class=\"dataframe\">\n",
       "  <thead>\n",
       "    <tr style=\"text-align: right;\">\n",
       "      <th></th>\n",
       "      <th>price</th>\n",
       "    </tr>\n",
       "    <tr>\n",
       "      <th>region</th>\n",
       "      <th></th>\n",
       "    </tr>\n",
       "  </thead>\n",
       "  <tbody>\n",
       "    <tr>\n",
       "      <th>South</th>\n",
       "      <td>1466242800</td>\n",
       "    </tr>\n",
       "    <tr>\n",
       "      <th>West</th>\n",
       "      <td>618706800</td>\n",
       "    </tr>\n",
       "    <tr>\n",
       "      <th>Midwest</th>\n",
       "      <td>284957500</td>\n",
       "    </tr>\n",
       "    <tr>\n",
       "      <th>Northeast</th>\n",
       "      <td>50986100</td>\n",
       "    </tr>\n",
       "  </tbody>\n",
       "</table>\n",
       "</div>"
      ],
      "text/plain": [
       "                price\n",
       "region               \n",
       "South      1466242800\n",
       "West        618706800\n",
       "Midwest     284957500\n",
       "Northeast    50986100"
      ]
     },
     "execution_count": 50,
     "metadata": {},
     "output_type": "execute_result"
    }
   ],
   "source": [
    "data[[\"region\", \"price\"]].groupby(\"region\").sum().sort_values(ascending = False, by = \"price\")"
   ]
  },
  {
   "cell_type": "markdown",
   "metadata": {},
   "source": [
    "Looks like the south has generated the most in sales over the entire period of the data."
   ]
  },
  {
   "cell_type": "markdown",
   "metadata": {},
   "source": [
    "What about on average?"
   ]
  },
  {
   "cell_type": "code",
   "execution_count": 51,
   "metadata": {},
   "outputs": [
    {
     "data": {
      "text/html": [
       "<div>\n",
       "<style scoped>\n",
       "    .dataframe tbody tr th:only-of-type {\n",
       "        vertical-align: middle;\n",
       "    }\n",
       "\n",
       "    .dataframe tbody tr th {\n",
       "        vertical-align: top;\n",
       "    }\n",
       "\n",
       "    .dataframe thead th {\n",
       "        text-align: right;\n",
       "    }\n",
       "</style>\n",
       "<table border=\"1\" class=\"dataframe\">\n",
       "  <thead>\n",
       "    <tr style=\"text-align: right;\">\n",
       "      <th></th>\n",
       "      <th>price</th>\n",
       "    </tr>\n",
       "    <tr>\n",
       "      <th>region</th>\n",
       "      <th></th>\n",
       "    </tr>\n",
       "  </thead>\n",
       "  <tbody>\n",
       "    <tr>\n",
       "      <th>South</th>\n",
       "      <td>21868.227714</td>\n",
       "    </tr>\n",
       "    <tr>\n",
       "      <th>Northeast</th>\n",
       "      <td>21751.749147</td>\n",
       "    </tr>\n",
       "    <tr>\n",
       "      <th>West</th>\n",
       "      <td>21714.343874</td>\n",
       "    </tr>\n",
       "    <tr>\n",
       "      <th>Midwest</th>\n",
       "      <td>20865.307168</td>\n",
       "    </tr>\n",
       "  </tbody>\n",
       "</table>\n",
       "</div>"
      ],
      "text/plain": [
       "                  price\n",
       "region                 \n",
       "South      21868.227714\n",
       "Northeast  21751.749147\n",
       "West       21714.343874\n",
       "Midwest    20865.307168"
      ]
     },
     "execution_count": 51,
     "metadata": {},
     "output_type": "execute_result"
    }
   ],
   "source": [
    "data[[\"region\", \"price\"]].groupby(\"region\").mean().sort_values(ascending=False, by=\"price\")"
   ]
  },
  {
   "cell_type": "markdown",
   "metadata": {},
   "source": [
    "Still the south!"
   ]
  },
  {
   "cell_type": "code",
   "execution_count": 54,
   "metadata": {},
   "outputs": [
    {
     "data": {
      "text/html": [
       "<div>\n",
       "<style scoped>\n",
       "    .dataframe tbody tr th:only-of-type {\n",
       "        vertical-align: middle;\n",
       "    }\n",
       "\n",
       "    .dataframe tbody tr th {\n",
       "        vertical-align: top;\n",
       "    }\n",
       "\n",
       "    .dataframe thead th {\n",
       "        text-align: right;\n",
       "    }\n",
       "</style>\n",
       "<table border=\"1\" class=\"dataframe\">\n",
       "  <thead>\n",
       "    <tr style=\"text-align: right;\">\n",
       "      <th></th>\n",
       "      <th>price</th>\n",
       "    </tr>\n",
       "    <tr>\n",
       "      <th>region</th>\n",
       "      <th></th>\n",
       "    </tr>\n",
       "  </thead>\n",
       "  <tbody>\n",
       "    <tr>\n",
       "      <th>Northeast</th>\n",
       "      <td>21000.0</td>\n",
       "    </tr>\n",
       "    <tr>\n",
       "      <th>South</th>\n",
       "      <td>21000.0</td>\n",
       "    </tr>\n",
       "    <tr>\n",
       "      <th>West</th>\n",
       "      <td>20200.0</td>\n",
       "    </tr>\n",
       "    <tr>\n",
       "      <th>Midwest</th>\n",
       "      <td>19500.0</td>\n",
       "    </tr>\n",
       "  </tbody>\n",
       "</table>\n",
       "</div>"
      ],
      "text/plain": [
       "             price\n",
       "region            \n",
       "Northeast  21000.0\n",
       "South      21000.0\n",
       "West       20200.0\n",
       "Midwest    19500.0"
      ]
     },
     "execution_count": 54,
     "metadata": {},
     "output_type": "execute_result"
    }
   ],
   "source": [
    "data[[\"region\", \"price\"]].groupby(\"region\").median().sort_values(ascending=False, by=\"price\")"
   ]
  },
  {
   "cell_type": "markdown",
   "metadata": {},
   "source": [
    "It looks like the Northeast and South are tied for highest median, meaning South is overall the clear highest value in terms of selling cars."
   ]
  },
  {
   "cell_type": "markdown",
   "metadata": {},
   "source": [
    "### Are online appraisals higher than in-person appraisals?"
   ]
  },
  {
   "cell_type": "code",
   "execution_count": 76,
   "metadata": {},
   "outputs": [
    {
     "name": "stdout",
     "output_type": "stream",
     "text": [
      "T-statistic (from scipy): 53.7115375373089\n",
      "P-value (from scipy): 0.0\n",
      "Decision: Reject the null hypothesis at alpha=0.5.\n",
      "Conclusion: There is statistically significant evidence that the average appraisal offer is different between online and in-store appraisals.\n"
     ]
    }
   ],
   "source": [
    "online = data[data[\"online_appraisal_flag\"] == True][\"appraisal_offer\"]\n",
    "in_store = data[data[\"online_appraisal_flag\"] == False][\"appraisal_offer\"]\n",
    "\n",
    "null = \"There is no difference between appraisal offers in stores and online.\"\n",
    "alternative = \"There is a difference between appraisal offers in stores and online.\"\n",
    "\n",
    "alpha = 0.5\n",
    "\n",
    "t_statistic, p_value = stats.ttest_ind(online, in_store)\n",
    "\n",
    "if p_value <= alpha:\n",
    "    decision = \"Reject\"\n",
    "else:\n",
    "    decision = \"Fail to reject\"\n",
    "\n",
    "# Conclusion\n",
    "if decision == \"Reject\":\n",
    "    conclusion = \"There is statistically significant evidence that the average appraisal offer is different between online and in-store appraisals.\"\n",
    "else:\n",
    "    conclusion = \"There is insufficient evidence to claim a significant difference in average appraisal offer between online and in-store appraisals.\"\n",
    "\n",
    "# Display results\n",
    "print(\"T-statistic (from scipy):\", t_statistic)\n",
    "print(\"P-value (from scipy):\", p_value)\n",
    "print(f\"Decision: {decision} the null hypothesis at alpha={alpha}.\")\n",
    "print(\"Conclusion:\", conclusion)\n"
   ]
  }
 ],
 "metadata": {
  "kernelspec": {
   "display_name": "base",
   "language": "python",
   "name": "python3"
  },
  "language_info": {
   "codemirror_mode": {
    "name": "ipython",
    "version": 3
   },
   "file_extension": ".py",
   "mimetype": "text/x-python",
   "name": "python",
   "nbconvert_exporter": "python",
   "pygments_lexer": "ipython3",
   "version": "3.10.10"
  }
 },
 "nbformat": 4,
 "nbformat_minor": 2
}
